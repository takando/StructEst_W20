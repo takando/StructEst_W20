{
 "cells": [
  {
   "cell_type": "markdown",
   "metadata": {},
   "source": [
    "# Structural Estimation HW3\n",
    "\n",
    "## Takuya Ando"
   ]
  },
  {
   "cell_type": "code",
   "execution_count": 37,
   "metadata": {},
   "outputs": [],
   "source": [
    "import numpy as np\n",
    "import pandas as pd\n",
    "import matplotlib.pyplot as plt\n",
    "import scipy.optimize as opt\n",
    "import scipy.stats as sts\n",
    "import math\n",
    "import scipy.special as spc\n",
    "import numpy.linalg as lin\n",
    "import scipy.integrate as intgr\n",
    "\n",
    "%matplotlib inline\n",
    "\n",
    "import warnings\n",
    "warnings.filterwarnings(\"ignore\")"
   ]
  },
  {
   "cell_type": "markdown",
   "metadata": {},
   "source": [
    "## Question1"
   ]
  },
  {
   "cell_type": "markdown",
   "metadata": {},
   "source": [
    "(a) Load data."
   ]
  },
  {
   "cell_type": "code",
   "execution_count": 38,
   "metadata": {},
   "outputs": [],
   "source": [
    "inc = pd.read_csv(\"data/hh_inc_synth.txt\", header=None)\n",
    "inc = inc[0]"
   ]
  },
  {
   "cell_type": "markdown",
   "metadata": {},
   "source": [
    "First we construct the bin bounds with width of 5000 dollars(The last two bounds are 250000 and 350000). Then using the bin bounds, counts of observations in each bin can be calculated. We can divide each counts with number of observation to compute the percent of observation.(moments) The resulting moments are as below. "
   ]
  },
  {
   "cell_type": "code",
   "execution_count": 39,
   "metadata": {},
   "outputs": [
    {
     "data": {
      "text/plain": [
       "array([0.03519016, 0.04106206, 0.05885948, 0.05683611, 0.0585952 ,\n",
       "       0.05443284, 0.05506049, 0.05067515, 0.04785894, 0.04083908,\n",
       "       0.04269728, 0.03509931, 0.03660239, 0.03168022, 0.02978073,\n",
       "       0.0285089 , 0.0250733 , 0.02119172, 0.02142297, 0.01859025,\n",
       "       0.02086964, 0.01462609, 0.01422967, 0.01295784, 0.01271834,\n",
       "       0.0103894 , 0.01000124, 0.00758145, 0.00851468, 0.00737498,\n",
       "       0.0096296 , 0.00611141, 0.00575629, 0.00503778, 0.00509559,\n",
       "       0.00437709, 0.00379898, 0.00299789, 0.00313829, 0.0025767 ,\n",
       "       0.01897014, 0.02319032])"
      ]
     },
     "execution_count": 39,
     "metadata": {},
     "output_type": "execute_result"
    }
   ],
   "source": [
    "bin_edge = np.append(np.arange(0, 205000, 5000), np.array([250000, 350000]))\n",
    "hist, edges = np.histogram(inc, bins=bin_edge)\n",
    "hist/len(inc)"
   ]
  },
  {
   "cell_type": "markdown",
   "metadata": {},
   "source": [
    "(b)We plot the histogram using the bin bounds calculated above. As the unit of income is in thousands, we also set the width of each bin as 5, not 5000 here. The resulting histogram is as below."
   ]
  },
  {
   "cell_type": "code",
   "execution_count": 40,
   "metadata": {},
   "outputs": [
    {
     "data": {
      "text/plain": [
       "(0, 0.015)"
      ]
     },
     "execution_count": 40,
     "metadata": {},
     "output_type": "execute_result"
    },
    {
     "data": {
      "image/png": "[encoded data removed]",
      "text/plain": [
       "<Figure size 864x576 with 1 Axes>"
      ]
     },
     "metadata": {
      "needs_background": "light"
     },
     "output_type": "display_data"
    }
   ],
   "source": [
    "plt.figure(figsize=(12, 8))\n",
    "\n",
    "weights = (1 / (inc.shape[0]*5)) * np.ones_like(inc)\n",
    "\n",
    "weights[(len(weights) - (hist[-2] + hist[-1]) +1) : (len(weights) - hist[-1] +1)] =\\\n",
    "weights[(len(weights) - (hist[-2] + hist[-1]) +1) : (len(weights) - hist[-1] +1)]/10\n",
    "\n",
    "weights[(len(weights) - hist[-1] +1) :] =\\\n",
    "weights[(len(weights) - hist[-1] +1) :]/20\n",
    "\n",
    "inc_sort = np.sort(inc)\n",
    "\n",
    "x_scale = np.array([0, 50000, 100000, 150000, 200000, 250000, 300000, 350000])\n",
    "\n",
    "plt.hist(inc_sort, bins=edges, weights=weights, edgecolor=\"k\")\n",
    "plt.title('Histogram of household income', fontsize=17)\n",
    "plt.xlabel(r'Household income (1000 dollars)', fontsize=12)\n",
    "plt.xticks(x_scale, (x_scale/1000).astype(int))\n",
    "plt.ylabel(r'Density of observations', fontsize=12)\n",
    "plt.xlim([0, 350000])\n",
    "plt.ylim([0, 0.015])"
   ]
  },
  {
   "cell_type": "markdown",
   "metadata": {},
   "source": [
    "(b)We plot the histogram using the bin bounds calculated above. As the unit of income is in thousands, we also set the width of each bin as 5, not 5000 here. The resulting histogram is as below."
   ]
  },
  {
   "cell_type": "code",
   "execution_count": 41,
   "metadata": {},
   "outputs": [],
   "source": [
    "def model_moments_1c(mu, sigma, bin_bound_list):\n",
    "    bins = len(bin_bound_list)\n",
    "    model_moments = np.zeros(bins)\n",
    "    for bin_ind in range(bins):\n",
    "        if bin_ind == 0:\n",
    "            model_moments[bin_ind] = \\\n",
    "                sts.lognorm.cdf(bin_bound_list[bin_ind], s=sigma,\n",
    "                                scale=np.exp(mu))\n",
    "        elif bin_ind > 0 and bin_ind < bins - 1:\n",
    "            model_moments[bin_ind] = \\\n",
    "                (sts.lognorm.cdf(bin_bound_list[bin_ind], s=sigma,\n",
    "                                 scale=np.exp(mu)) -\n",
    "                 sts.lognorm.cdf(bin_bound_list[bin_ind - 1], s=sigma,\n",
    "                                 scale=np.exp(mu)))\n",
    "        elif bin_ind == bins - 1:\n",
    "            model_moments[bin_ind] = \\\n",
    "                (1 - sts.lognorm.cdf(bin_bound_list[bin_ind - 1],\n",
    "                                     s=sigma, scale=np.exp(mu)))\n",
    "\n",
    "    return model_moments"
   ]
  },
  {
   "cell_type": "markdown",
   "metadata": {},
   "source": [
    "(c)Define pdf function for log_normal distribution."
   ]
  },
  {
   "cell_type": "code",
   "execution_count": 42,
   "metadata": {},
   "outputs": [],
   "source": [
    "def log_norm_pdf(xvals, mu, sigma):\n",
    "            \n",
    "    pdf_vals = (1/ (xvals*sigma* np.sqrt(2*np.pi)))*\\\n",
    "    np.exp(-((np.log(xvals)-mu)**2)/(2*sigma**2))\n",
    "    \n",
    "    return pdf_vals"
   ]
  },
  {
   "cell_type": "markdown",
   "metadata": {},
   "source": [
    "Then, we also define functions for data moments, model moments, error vector and criterion function."
   ]
  },
  {
   "cell_type": "code",
   "execution_count": 43,
   "metadata": {},
   "outputs": [],
   "source": [
    "def data_moments(xvals):\n",
    "    '''\n",
    "    This function computes data moments for GMM\n",
    "    (percent of obsevation for each bin). as well as each bin bound\n",
    "    '''\n",
    "    bin_edge = np.append(np.arange(0, 205000, 5000), np.array([250000, 350000]))\n",
    "    hist, edges = np.histogram(xvals, bins=bin_edge)\n",
    "    pct_datas = hist/ len(xvals)\n",
    "    \n",
    "    return pct_datas, edges[1:]\n",
    "\n",
    "def model_moments_1c(mu, sigma, bin_bound_list):\n",
    "    bins = len(bin_bound_list)\n",
    "    model_moments = np.zeros(bins)\n",
    "    for bin_ind in range(bins):\n",
    "        if bin_ind == 0:\n",
    "            model_moments[bin_ind] = \\\n",
    "                sts.lognorm.cdf(bin_bound_list[bin_ind], s=sigma,\n",
    "                                scale=np.exp(mu))\n",
    "        elif bin_ind > 0 and bin_ind < bins - 1:\n",
    "            model_moments[bin_ind] = \\\n",
    "                (sts.lognorm.cdf(bin_bound_list[bin_ind], s=sigma,\n",
    "                                 scale=np.exp(mu)) -\n",
    "                 sts.lognorm.cdf(bin_bound_list[bin_ind - 1], s=sigma,\n",
    "                                 scale=np.exp(mu)))\n",
    "        elif bin_ind == bins - 1:\n",
    "            model_moments[bin_ind] = \\\n",
    "                (1 - sts.lognorm.cdf(bin_bound_list[bin_ind - 1],\n",
    "                                     s=sigma, scale=np.exp(mu)))\n",
    "\n",
    "    return model_moments\n",
    "\n",
    "def err_vec(xvals, mu, sigma, simple):\n",
    "    '''\n",
    "    This function computes the vector of moment errors (in percent\n",
    "    deviation from the data moment vector) for GMM.\n",
    "    '''\n",
    "    moms_data, bin_bounds = data_moments(xvals)\n",
    "    moms_model = model_moments_1c(mu, sigma, bin_bounds/1000)\n",
    "    if simple:\n",
    "        err_vec = moms_model - moms_data\n",
    "    else:\n",
    "        err_vec = (moms_model - moms_data) / moms_data\n",
    "    \n",
    "    return err_vec\n",
    "\n",
    "def criterion(params, *args):\n",
    "    '''\n",
    "    This function computes the GMM weighted sum of squared moment errors\n",
    "    criterion function value given parameter values and an estimate of\n",
    "    the weighting matrix.\n",
    "    '''\n",
    "    mu, sigma = params\n",
    "    xvals, W = args\n",
    "    err = err_vec(xvals, mu, sigma, simple=False)\n",
    "    crit_val = err.T @ W @ err\n",
    "    \n",
    "    return crit_val"
   ]
  },
  {
   "cell_type": "markdown",
   "metadata": {},
   "source": [
    "Now we perform GMM estimation for log-normal distribution. The estimated parameters are mu=3.86 and sigma = 0.91. The minimized criterion function value is 0.046."
   ]
  },
  {
   "cell_type": "code",
   "execution_count": 44,
   "metadata": {},
   "outputs": [
    {
     "name": "stdout",
     "output_type": "stream",
     "text": [
      "mu_GMM1= 3.859088768762434  sig_GMM1= 0.907841169197452\n"
     ]
    },
    {
     "data": {
      "text/plain": [
       "      fun: 0.045945281008437026\n",
       " hess_inv: <2x2 LbfgsInvHessProduct with dtype=float64>\n",
       "      jac: array([-2.22044605e-08,  1.11022302e-08])\n",
       "  message: b'CONVERGENCE: REL_REDUCTION_OF_F_<=_FACTR*EPSMCH'\n",
       "     nfev: 108\n",
       "      nit: 18\n",
       "   status: 0\n",
       "  success: True\n",
       "        x: array([3.85908877, 0.90784117])"
      ]
     },
     "execution_count": 44,
     "metadata": {},
     "output_type": "execute_result"
    }
   ],
   "source": [
    "# Note that this takes a little time because the intgr.quad() commands\n",
    "# are a little slow\n",
    "moms_data = hist/ len(inc)\n",
    "mu_init = np.log(np.mean(inc))\n",
    "sig_init = np.log(np.sqrt(np.var(inc)))\n",
    "params_init = np.array([mu_init, sig_init])\n",
    "W_hat = np.diag(moms_data)\n",
    "gmm_args = (inc, W_hat)\n",
    "results = opt.minimize(criterion, params_init, args=(gmm_args),\n",
    "                       tol=1e-14, method='L-BFGS-B',\n",
    "                       bounds=((1e-10, None), (1e-10, None)))\n",
    "mu_GMM1, sig_GMM1 = results.x\n",
    "print('mu_GMM1=', mu_GMM1, ' sig_GMM1=', sig_GMM1)\n",
    "results"
   ]
  },
  {
   "cell_type": "markdown",
   "metadata": {},
   "source": [
    "The overlayed plot of the estimated log normal distribution with GMM is as below. It seems the estimated distribution grabs the entire picture well but in the lower values the estimation is too high comparing to the actual values."
   ]
  },
  {
   "cell_type": "code",
   "execution_count": 45,
   "metadata": {},
   "outputs": [
    {
     "data": {
      "text/plain": [
       "(0, 0.015)"
      ]
     },
     "execution_count": 45,
     "metadata": {},
     "output_type": "execute_result"
    },
    {
     "data": {
      "image/png": "[encoded data removed]",
      "text/plain": [
       "<Figure size 864x576 with 1 Axes>"
      ]
     },
     "metadata": {
      "needs_background": "light"
     },
     "output_type": "display_data"
    }
   ],
   "source": [
    "plt.figure(figsize=(12, 8))\n",
    "\n",
    "weights = (1 / (inc.shape[0]*5)) * np.ones_like(inc)\n",
    "\n",
    "weights[(len(weights) - (hist[-2] + hist[-1]) +1) : (len(weights) - hist[-1] +1)] =\\\n",
    "weights[(len(weights) - (hist[-2] + hist[-1]) +1) : (len(weights) - hist[-1] +1)]/10\n",
    "\n",
    "weights[(len(weights) - hist[-1] +1) :] =\\\n",
    "weights[(len(weights) - hist[-1] +1) :]/20\n",
    "\n",
    "inc_sort = np.sort(inc)\n",
    "\n",
    "x_scale = np.array([0, 50000, 100000, 150000, 200000, 250000, 300000, 350000])\n",
    "\n",
    "plt.hist(inc_sort, bins=edges, weights=weights, color=\"skyblue\")\n",
    "\n",
    "# Plot the estimated GMM PDF\n",
    "dist_pts = np.linspace(1, 350, 500)\n",
    "plt.plot(dist_pts*1000, log_norm_pdf(dist_pts, mu_GMM1, sig_GMM1),\n",
    "         linewidth=2, color='k', label='1: $\\mu_{GMM1}$,$\\sigma_{GMM1}$')\n",
    "plt.legend(loc='upper left')\n",
    "\n",
    "plt.title('Histogram of household income', fontsize=17)\n",
    "plt.xlabel(r'Household income (1000 dollars)', fontsize=12)\n",
    "plt.xticks(x_scale, (x_scale/1000).astype(int))\n",
    "plt.ylabel(r'Density of observations', fontsize=12)\n",
    "plt.xlim([0, 350000])\n",
    "plt.ylim([0, 0.015])"
   ]
  },
  {
   "cell_type": "markdown",
   "metadata": {},
   "source": [
    "(d) First, we define pdf and cdf functions for gamma distribution."
   ]
  },
  {
   "cell_type": "code",
   "execution_count": 46,
   "metadata": {},
   "outputs": [],
   "source": [
    "def gamma_dist(xvals, alpha, beta):\n",
    "    '''\n",
    "    Compute the probability density of gamma ditribution for data xvals\n",
    "    given parameters alpha and beta.\n",
    "    '''\n",
    "    pdf_vals = ((1 / ((beta ** alpha) * spc.gamma(alpha))) *\n",
    "                (xvals ** (alpha - 1)) * (np.exp(-xvals/beta)))\n",
    "    return pdf_vals\n",
    "\n",
    "def gamma_cdf(alpha,beta, lb, ub):\n",
    "    pdf = lambda x: gamma_dist(x, alpha, beta)\n",
    "    (bpct_1_mod, _) = intgr.quad(pdf, lb, ub)\n",
    "    return bpct_1_mod"
   ]
  },
  {
   "cell_type": "markdown",
   "metadata": {},
   "source": [
    "Next, similary with the previous question, we define model moments, error vector and criterion functions. "
   ]
  },
  {
   "cell_type": "code",
   "execution_count": 47,
   "metadata": {},
   "outputs": [],
   "source": [
    "def model_moments_1d(alpha, beta, bin_bound_list):\n",
    "    bins = len(bin_bound_list)\n",
    "    model_moments = np.zeros(bins)\n",
    "    for bin_ind in range(bins):\n",
    "        if bin_ind == 0:\n",
    "            model_moments[bin_ind] = \\\n",
    "                gamma_cdf(alpha, beta, 0, bin_bound_list[bin_ind])\n",
    "        elif bin_ind > 0 and bin_ind < bins - 1:\n",
    "            model_moments[bin_ind] = \\\n",
    "                gamma_cdf(alpha, beta, bin_bound_list[bin_ind-1],\n",
    "                                 bin_bound_list[bin_ind])\n",
    "        elif bin_ind == bins - 1:\n",
    "            model_moments[bin_ind] = \\\n",
    "                1 - gamma_cdf(alpha, beta, 0,\n",
    "                                 bin_bound_list[bin_ind-1])\n",
    "\n",
    "    return model_moments\n",
    "\n",
    "def err_vec(xvals, alpha, beta, simple):\n",
    "    moms_data, bin_bounds = data_moments(xvals)\n",
    "    moms_model = model_moments_1d(alpha, beta, bin_bounds)\n",
    "    if simple:\n",
    "        err_vec = moms_model - moms_data\n",
    "    else:\n",
    "        err_vec = (moms_model - moms_data) / moms_data\n",
    "    \n",
    "    return err_vec\n",
    "\n",
    "\n",
    "def criterion(params, *args):\n",
    "    \n",
    "    alpha, beta = params\n",
    "    xvals, W = args\n",
    "    err = err_vec(xvals, alpha, beta, simple=False)\n",
    "    crit_val = err.T @ W @ err\n",
    "    \n",
    "    return crit_val"
   ]
  },
  {
   "cell_type": "markdown",
   "metadata": {},
   "source": [
    "Then we perform GMM estimation. The estimated parameters are alpha=1.36 and beta = 48400. The minimized criterion function value is 0.012. "
   ]
  },
  {
   "cell_type": "code",
   "execution_count": 48,
   "metadata": {},
   "outputs": [
    {
     "name": "stdout",
     "output_type": "stream",
     "text": [
      "alpha_GMM1= 1.3592015450583836  beta_GMM1= 48400.38315503652\n"
     ]
    },
    {
     "data": {
      "text/plain": [
       "      fun: 0.01234724712397501\n",
       " hess_inv: <2x2 LbfgsInvHessProduct with dtype=float64>\n",
       "      jac: array([-4.20476553e-03, -4.44089210e-08])\n",
       "  message: b'CONVERGENCE: REL_REDUCTION_OF_F_<=_FACTR*EPSMCH'\n",
       "     nfev: 147\n",
       "      nit: 24\n",
       "   status: 0\n",
       "  success: True\n",
       "        x: array([1.35920155e+00, 4.84003832e+04])"
      ]
     },
     "execution_count": 48,
     "metadata": {},
     "output_type": "execute_result"
    }
   ],
   "source": [
    "# Note that this takes a little time because the intgr.quad() commands\n",
    "# are a little slow\n",
    "moms_data = hist/ len(inc)\n",
    "alpha_init = 3\n",
    "beta_init = 20000\n",
    "params_init = np.array([alpha_init, beta_init])\n",
    "W_hat = np.diag(moms_data)\n",
    "gmm_args = (inc, W_hat)\n",
    "results = opt.minimize(criterion, params_init, args=(gmm_args),\n",
    "                       tol=1e-14, method='L-BFGS-B',\n",
    "                       bounds=((1e-10, None), (1e-10, None)))\n",
    "alpha_GMM1, beta_GMM1 = results.x\n",
    "print('alpha_GMM1=', alpha_GMM1, ' beta_GMM1=', beta_GMM1)\n",
    "results"
   ]
  },
  {
   "cell_type": "markdown",
   "metadata": {},
   "source": [
    "The overlayed estimated histogram from gamma distribution is as below.(green line)"
   ]
  },
  {
   "cell_type": "code",
   "execution_count": 49,
   "metadata": {},
   "outputs": [
    {
     "data": {
      "text/plain": [
       "<matplotlib.legend.Legend at 0x7f773bc5d9b0>"
      ]
     },
     "execution_count": 49,
     "metadata": {},
     "output_type": "execute_result"
    },
    {
     "data": {
      "image/png": "[encoded data removed]",
      "text/plain": [
       "<Figure size 864x576 with 1 Axes>"
      ]
     },
     "metadata": {
      "needs_background": "light"
     },
     "output_type": "display_data"
    }
   ],
   "source": [
    "plt.figure(figsize=(12, 8))\n",
    "\n",
    "weights = (1 / (inc.shape[0]*5)) * np.ones_like(inc)\n",
    "\n",
    "weights[(len(weights) - (hist[-2] + hist[-1]) +1) : (len(weights) - hist[-1] +1)] =\\\n",
    "weights[(len(weights) - (hist[-2] + hist[-1]) +1) : (len(weights) - hist[-1] +1)]/10\n",
    "\n",
    "weights[(len(weights) - hist[-1] +1) :] =\\\n",
    "weights[(len(weights) - hist[-1] +1) :]/20\n",
    "\n",
    "inc_sort = np.sort(inc)\n",
    "\n",
    "x_scale = np.array([0, 50000, 100000, 150000, 200000, 250000, 300000, 350000])\n",
    "\n",
    "plt.hist(inc_sort, bins=edges, weights=weights, color=\"skyblue\")\n",
    "\n",
    "# Plot the estimated GMM PDF for log-normal\n",
    "dist_pts = np.linspace(1, 350, 500)\n",
    "plt.plot(dist_pts*1000, log_norm_pdf(dist_pts, mu_GMM1, sig_GMM1),\n",
    "         linewidth=2, color='red', label='1: $\\mu_{GMM1}$,$\\sigma_{GMM1}$')\n",
    "\n",
    "# Plot the estimated GMM PDF for gamma\n",
    "dist_pts = np.linspace(1, 350000, 500)\n",
    "plt.plot(dist_pts, gamma_dist(dist_pts, alpha_GMM1, beta_GMM1)*1000,\n",
    "         linewidth=2, color='green', label='2: $\\ alpha_{GMM1}$,$\\ beta_{GMM1}$')\n",
    "\n",
    "plt.title('Histogram of household income', fontsize=17)\n",
    "plt.xlabel(r'Household income (1000 dollars)', fontsize=12)\n",
    "plt.xticks(x_scale, (x_scale/1000).astype(int))\n",
    "plt.ylabel(r'Density of observations', fontsize=12)\n",
    "plt.xlim([0, 350000])\n",
    "plt.ylim([0, 0.015])\n",
    "plt.legend(loc='upper right')"
   ]
  },
  {
   "cell_type": "markdown",
   "metadata": {},
   "source": [
    "(e)Looking at the plot from (d), gamma distribution seems fitting better for the data especially in lower values. Also, the minimized criterion function values is smaller for gamma distribution. Thus, gamma distribution is fitting better here."
   ]
  },
  {
   "cell_type": "markdown",
   "metadata": {},
   "source": [
    "(f)First, we define the function for error matrix."
   ]
  },
  {
   "cell_type": "code",
   "execution_count": 50,
   "metadata": {},
   "outputs": [],
   "source": [
    "def data_moments(xvals):\n",
    "    '''\n",
    "    This function computes data moments for GMM\n",
    "    (percent of obsevation for each bin). as well as each bin bound\n",
    "    \n",
    "    '''\n",
    "    bin_edge = np.append(np.arange(0, 205000, 5000), np.array([250000, 350000]))\n",
    "    hist, edges = np.histogram(xvals, bins=bin_edge)\n",
    "    pct_datas = hist/ len(xvals)\n",
    "    \n",
    "    return pct_datas, edges[1:]\n",
    "\n",
    "def get_Err_mat(pts, alpha, beta, bin_bound_list, simple=False):\n",
    "    '''\n",
    "    \n",
    "    '''\n",
    "    R = 42\n",
    "    N = len(pts)\n",
    "    Err_mat = np.zeros((R, N))\n",
    "    moms_data = data_moments(pts)[0]\n",
    "    moms_model = model_moments_1d(alpha, beta, bin_bound_list)\n",
    "    \n",
    "    if simple:\n",
    "        for i in range(R):\n",
    "            if i == 0:\n",
    "                pts_in_grpi = pts < bin_bound_list[i]\n",
    "            elif i >0 and i < R -1:\n",
    "                pts_in_grpi = (pts >= bin_bound_list[i-1]) & (pts < bin_bound_list[i])\n",
    "            elif i == R -1:\n",
    "                pts_in_grpi = pts >= bin_bound_list[i-1]\n",
    "            Err_mat[i, :] = pts_in_grpi - moms_model[i]\n",
    "            \n",
    "    else:\n",
    "        for i in range(R):\n",
    "            if i == 0:\n",
    "                pts_in_grpi = pts < bin_bound_list[i]\n",
    "            elif i >0 and i < R -1:\n",
    "                pts_in_grpi = (pts >= bin_bound_list[i-1]) & (pts < bin_bound_list[i])\n",
    "            elif i == R -1:\n",
    "                pts_in_grpi = pts >= bin_bound_list[i-1]\n",
    "            Err_mat[i, :] = (pts_in_grpi - moms_model[i]) / moms_data[i] \n",
    "    \n",
    "    return Err_mat"
   ]
  },
  {
   "cell_type": "markdown",
   "metadata": {},
   "source": [
    "Then, we perform two-step GMM estimation using optimal weighting matrix. First we make estimation with identity weighting matrix."
   ]
  },
  {
   "cell_type": "code",
   "execution_count": 51,
   "metadata": {},
   "outputs": [
    {
     "name": "stdout",
     "output_type": "stream",
     "text": [
      "alpha_GMM_I= 1.3704522321071742  beta_GMM_I= 46377.61590768169\n"
     ]
    },
    {
     "data": {
      "text/plain": [
       "      fun: 0.6723670886358621\n",
       " hess_inv: <2x2 LbfgsInvHessProduct with dtype=float64>\n",
       "      jac: array([ 8.70414851e-06, -6.88338275e-07])\n",
       "  message: b'CONVERGENCE: REL_REDUCTION_OF_F_<=_FACTR*EPSMCH'\n",
       "     nfev: 369\n",
       "      nit: 34\n",
       "   status: 0\n",
       "  success: True\n",
       "        x: array([1.37045223e+00, 4.63776159e+04])"
      ]
     },
     "execution_count": 51,
     "metadata": {},
     "output_type": "execute_result"
    }
   ],
   "source": [
    "alpha_init = 3\n",
    "beta_init = 20000\n",
    "params_init = np.array([alpha_init, beta_init])\n",
    "W_hat = np.eye(42)\n",
    "gmm_args = (inc, W_hat)\n",
    "results = opt.minimize(criterion, params_init, args=(gmm_args),\n",
    "                       tol=1e-14, method='L-BFGS-B',\n",
    "                       bounds=((1e-10, None), (1e-10, None)))\n",
    "alpha_GMM_I, beta_GMM_I = results.x\n",
    "print('alpha_GMM_I=', alpha_GMM_I, ' beta_GMM_I=', beta_GMM_I)\n",
    "results"
   ]
  },
  {
   "cell_type": "markdown",
   "metadata": {},
   "source": [
    "Next, we construct optimal weighting matrix using error matrix. The resulting weighting matrix is as below."
   ]
  },
  {
   "cell_type": "code",
   "execution_count": 52,
   "metadata": {},
   "outputs": [
    {
     "name": "stdout",
     "output_type": "stream",
     "text": [
      "[[ 3.43432475e-02 -1.22391273e-03 -2.72678207e-03 ...  1.66852729e-05\n",
      "  -1.66997205e-04 -2.85400213e-04]\n",
      " [-1.22391273e-03  3.92786491e-02 -3.53530169e-03 ... -3.51872724e-06\n",
      "  -3.29236996e-04 -3.88920209e-04]\n",
      " [-2.72678207e-03 -3.53530169e-03  5.20864890e-02 ... -6.51249658e-05\n",
      "  -9.81924389e-04 -1.39121174e-03]\n",
      " ...\n",
      " [ 1.66852729e-05 -3.51872724e-06 -6.51249658e-05 ...  2.58327733e-03\n",
      "   2.96734296e-05  3.80626573e-05]\n",
      " [-1.66997205e-04 -3.29236996e-04 -9.81924389e-04 ...  2.96734296e-05\n",
      "   1.90355424e-02  4.60297959e-05]\n",
      " [-2.85400213e-04 -3.88920209e-04 -1.39121174e-03 ...  3.80626573e-05\n",
      "   4.60297959e-05  2.30588077e-02]]\n"
     ]
    }
   ],
   "source": [
    "Err_mat = get_Err_mat(inc, alpha_GMM1, beta_GMM1, edges[1:])\n",
    "VCV2 = (1 / inc.shape[0]) * (Err_mat @ Err_mat.T)\n",
    "# We use the pseudo-inverse command here because the VCV matrix is poorly conditioned\n",
    "W_hat2 = lin.pinv(VCV2)\n",
    "print(W_hat2)"
   ]
  },
  {
   "cell_type": "markdown",
   "metadata": {},
   "source": [
    "Now we make estimation using optimal weighting matrix calculated above. The estimated parameters are alpha=1.36 and beta=48411, slightly changed from the original estimation.(alpha=1.36 and beta=48400) The minimized weighted sum of error vector is 0.01219 and this is slightly smaller than original(0.01234). "
   ]
  },
  {
   "cell_type": "code",
   "execution_count": 53,
   "metadata": {},
   "outputs": [
    {
     "name": "stdout",
     "output_type": "stream",
     "text": [
      "alpha_GMM2= 1.3608912272408815  beta_GMM2= 48411.92696915968\n"
     ]
    },
    {
     "data": {
      "text/plain": [
       "      fun: 0.012192865858343449\n",
       " hess_inv: <2x2 LbfgsInvHessProduct with dtype=float64>\n",
       "      jac: array([ 3.60610847e-05, -2.87964097e-08])\n",
       "  message: b'CONVERGENCE: REL_REDUCTION_OF_F_<=_FACTR*EPSMCH'\n",
       "     nfev: 162\n",
       "      nit: 28\n",
       "   status: 0\n",
       "  success: True\n",
       "        x: array([1.36089123e+00, 4.84119270e+04])"
      ]
     },
     "execution_count": 53,
     "metadata": {},
     "output_type": "execute_result"
    }
   ],
   "source": [
    "alpha_init = 3\n",
    "beta_init = 20000\n",
    "params_init = np.array([alpha_init, beta_init])\n",
    "gmm_args = (inc, W_hat2)\n",
    "results = opt.minimize(criterion, params_init, args=(gmm_args),\n",
    "                       tol=1e-14, method='L-BFGS-B',\n",
    "                       bounds=((1e-10, None), (1e-10, None)))\n",
    "alpha_GMM2, beta_GMM2 = results.x\n",
    "print('alpha_GMM2=', alpha_GMM2, ' beta_GMM2=', beta_GMM2)\n",
    "results"
   ]
  },
  {
   "cell_type": "markdown",
   "metadata": {},
   "source": [
    "The layered plot from the two-step GMM estimation is as below.(orange line) The line looks almost overlayes the original gamma distribution line,thus it is hard to tell which is better from the plot. Then, considering that the minimized error is slightly smaller for two-step estimation, the two step estimation would be fitting better for the data."
   ]
  },
  {
   "cell_type": "code",
   "execution_count": 54,
   "metadata": {},
   "outputs": [
    {
     "data": {
      "text/plain": [
       "<matplotlib.legend.Legend at 0x7f772f80bb00>"
      ]
     },
     "execution_count": 54,
     "metadata": {},
     "output_type": "execute_result"
    },
    {
     "data": {
      "image/png": "[encoded data removed]",
      "text/plain": [
       "<Figure size 864x576 with 1 Axes>"
      ]
     },
     "metadata": {
      "needs_background": "light"
     },
     "output_type": "display_data"
    }
   ],
   "source": [
    "plt.figure(figsize=(12, 8))\n",
    "\n",
    "weights = (1 / (inc.shape[0]*5)) * np.ones_like(inc)\n",
    "\n",
    "weights[(len(weights) - (hist[-2] + hist[-1]) +1) : (len(weights) - hist[-1] +1)] =\\\n",
    "weights[(len(weights) - (hist[-2] + hist[-1]) +1) : (len(weights) - hist[-1] +1)]/10\n",
    "\n",
    "weights[(len(weights) - hist[-1] +1) :] =\\\n",
    "weights[(len(weights) - hist[-1] +1) :]/20\n",
    "\n",
    "inc_sort = np.sort(inc)\n",
    "\n",
    "x_scale = np.array([0, 50000, 100000, 150000, 200000, 250000, 300000, 350000])\n",
    "\n",
    "plt.hist(inc_sort, bins=edges, weights=weights, color=\"skyblue\")\n",
    "\n",
    "# Plot the estimated GMM PDF for log-normal\n",
    "dist_pts = np.linspace(1, 350, 500)\n",
    "plt.plot(dist_pts*1000, log_norm_pdf(dist_pts, mu_GMM1, sig_GMM1),\n",
    "         linewidth=2, color='red', label='1: $\\mu_{GMM1}$,$\\sigma_{GMM1}$')\n",
    "\n",
    "# Plot the estimated GMM PDF for gamma(original)\n",
    "dist_pts = np.linspace(1, 350000, 500)\n",
    "plt.plot(dist_pts, gamma_dist(dist_pts, alpha_GMM1, beta_GMM1)*1000,\n",
    "         linewidth=2, color='green', label='2: $\\ alpha_{GMM1}$,$\\ beta_{GMM1}$')\n",
    "\n",
    "# Plot the estimated GMM PDF for gamma(two step)\n",
    "dist_pts = np.linspace(1, 350000, 500)\n",
    "plt.plot(dist_pts, gamma_dist(dist_pts, alpha_GMM2, beta_GMM2)*1000,\n",
    "         linewidth=2, color='orange', label='3: $\\ alpha_{GMM2}$,$\\ beta_{GMM2}$')\n",
    "\n",
    "plt.title('Histogram of household income', fontsize=17)\n",
    "plt.xlabel(r'Household income (1000 dollars)', fontsize=12)\n",
    "plt.xticks(x_scale, (x_scale/1000).astype(int))\n",
    "plt.ylabel(r'Density of observations', fontsize=12)\n",
    "plt.xlim([0, 350000])\n",
    "plt.ylim([0, 0.015])\n",
    "plt.legend(loc='upper right')"
   ]
  },
  {
   "cell_type": "markdown",
   "metadata": {},
   "source": [
    "Q2"
   ]
  },
  {
   "cell_type": "markdown",
   "metadata": {},
   "source": [
    "(a)Load data."
   ]
  },
  {
   "cell_type": "code",
   "execution_count": 55,
   "metadata": {},
   "outputs": [
    {
     "data": {
      "text/html": [
       "<div>\n",
       "<style scoped>\n",
       "    .dataframe tbody tr th:only-of-type {\n",
       "        vertical-align: middle;\n",
       "    }\n",
       "\n",
       "    .dataframe tbody tr th {\n",
       "        vertical-align: top;\n",
       "    }\n",
       "\n",
       "    .dataframe thead th {\n",
       "        text-align: right;\n",
       "    }\n",
       "</style>\n",
       "<table border=\"1\" class=\"dataframe\">\n",
       "  <thead>\n",
       "    <tr style=\"text-align: right;\">\n",
       "      <th></th>\n",
       "      <th>c_t</th>\n",
       "      <th>k_t</th>\n",
       "      <th>w_t</th>\n",
       "      <th>r_t</th>\n",
       "    </tr>\n",
       "  </thead>\n",
       "  <tbody>\n",
       "    <tr>\n",
       "      <th>0</th>\n",
       "      <td>1.067109e+07</td>\n",
       "      <td>8.040697e+06</td>\n",
       "      <td>1.059438e+07</td>\n",
       "      <td>0.954120</td>\n",
       "    </tr>\n",
       "    <tr>\n",
       "      <th>1</th>\n",
       "      <td>1.169487e+07</td>\n",
       "      <td>7.595072e+06</td>\n",
       "      <td>1.161079e+07</td>\n",
       "      <td>1.107009</td>\n",
       "    </tr>\n",
       "    <tr>\n",
       "      <th>2</th>\n",
       "      <td>9.292394e+06</td>\n",
       "      <td>8.323735e+06</td>\n",
       "      <td>9.225588e+06</td>\n",
       "      <td>0.802596</td>\n",
       "    </tr>\n",
       "    <tr>\n",
       "      <th>3</th>\n",
       "      <td>7.913165e+06</td>\n",
       "      <td>6.613792e+06</td>\n",
       "      <td>7.856274e+06</td>\n",
       "      <td>0.860176</td>\n",
       "    </tr>\n",
       "    <tr>\n",
       "      <th>4</th>\n",
       "      <td>8.140994e+06</td>\n",
       "      <td>5.632136e+06</td>\n",
       "      <td>8.082466e+06</td>\n",
       "      <td>1.039183</td>\n",
       "    </tr>\n",
       "  </tbody>\n",
       "</table>\n",
       "</div>"
      ],
      "text/plain": [
       "            c_t           k_t           w_t       r_t\n",
       "0  1.067109e+07  8.040697e+06  1.059438e+07  0.954120\n",
       "1  1.169487e+07  7.595072e+06  1.161079e+07  1.107009\n",
       "2  9.292394e+06  8.323735e+06  9.225588e+06  0.802596\n",
       "3  7.913165e+06  6.613792e+06  7.856274e+06  0.860176\n",
       "4  8.140994e+06  5.632136e+06  8.082466e+06  1.039183"
      ]
     },
     "execution_count": 55,
     "metadata": {},
     "output_type": "execute_result"
    }
   ],
   "source": [
    "macro = pd.read_csv(\"data/MacroSeries.txt\", header=None)\n",
    "macro.columns = [\"c_t\", \"k_t\", \"w_t\", \"r_t\"]\n",
    "macro.head()"
   ]
  },
  {
   "cell_type": "markdown",
   "metadata": {},
   "source": [
    "We define error vector function and criterion function as below. The moments conditions are equations (6)-(9). We want these moments to be zero, thus weighted sum of these moments is the criterion value which we will minimize.\n",
    "\n",
    "we can derive $z$ using equation(4) as below.\n",
    "\n",
    "$$ r_t-\\alpha e^{z_t}k_{t}^{\\alpha-1} = 0 $$ \n",
    "$$ e^{z_t} = \\frac{r_t}{\\alpha k_{t}^{\\alpha-1}} $$ \n",
    "$$ z_t = ln(\\frac{r_t}{\\alpha k_{t}^{\\alpha-1}}) $$"
   ]
  },
  {
   "cell_type": "code",
   "execution_count": 56,
   "metadata": {},
   "outputs": [],
   "source": [
    "init_alpha= 0.5\n",
    "\n",
    "z_t = np.log(macro.r_t/(init_alpha*(macro.k_t**(init_alpha-1))))\n",
    "\n",
    "init_mu = np.mean(z_t)\n",
    "init_sigma = np.sqrt(np.var(z_t))\n",
    "\n",
    "init_p = 0.1"
   ]
  },
  {
   "cell_type": "code",
   "execution_count": 57,
   "metadata": {},
   "outputs": [
    {
     "data": {
      "text/plain": [
       "0.0002470653254995447"
      ]
     },
     "execution_count": 57,
     "metadata": {},
     "output_type": "execute_result"
    }
   ],
   "source": [
    "mom_1 = np.zeros(len(z_t))\n",
    "for i in range(len(z_t)-1):\n",
    "    mom_1[i] = z_t[i + 1] - init_p*z_t[i] - (1-init_p)*init_mu\n",
    "np.mean(mom_1)"
   ]
  },
  {
   "cell_type": "code",
   "execution_count": 58,
   "metadata": {},
   "outputs": [],
   "source": [
    "def err_vec(c, k, w, r, alpha, mu, sigma, p, simple):\n",
    "    '''\n",
    "    \n",
    "    '''\n",
    "    beta = 0.99\n",
    "    z = np.log(r/(alpha*(k**(alpha-1))))\n",
    "    \n",
    "    mom_1 = np.zeros(len(z))\n",
    "    mom_2 = np.zeros(len(z))\n",
    "    mom_3 = np.zeros(len(z))\n",
    "    mom_4 = np.zeros(len(z))\n",
    "    for i in range(len(z)-1):\n",
    "        mom_1[i] = z[i + 1] - p*z[i] - (1-p)*mu\n",
    "        mom_2[i] = (z[i + 1] - p*z[i] - (1-p)*mu)*z[i]\n",
    "        mom_3[i] = beta*alpha*np.exp(z[i+1])*((k[i+1]**(alpha-1)))*(c[i]/c[i+1])-1\n",
    "        mom_4[i] = (beta*alpha*np.exp(z[i+1])*((k[i+1]**(alpha-1)))*(c[i]/c[i+1])-1)*w[i]\n",
    "        \n",
    "    mom_1 = np.mean(mom_1)\n",
    "    mom_2 = np.mean(mom_2)\n",
    "    mom_3 = np.mean(mom_3)\n",
    "    mom_4 = np.mean(mom_4)\n",
    "    err_vec = np.array([mom_1, mom_2, mom_3, mom_4])\n",
    "    \n",
    "    return err_vec\n",
    "\n",
    "def criterion(params, *args):\n",
    "    '''\n",
    "   \n",
    "    '''\n",
    "    alpha, mu, sigma, p = params\n",
    "    c, k, r, w, W = args\n",
    "    err = err_vec(c, k, r, w, alpha, mu, sigma, p, simple=False)\n",
    "    crit_val = err.T @ W @ err\n",
    "    \n",
    "    return crit_val"
   ]
  },
  {
   "cell_type": "markdown",
   "metadata": {},
   "source": [
    "Below we perform GMM estimation. We set initial alpha = 0.5, p = 0(half of the range) and mu and sigma as mean and sd of z derived from initial alpha.\n",
    "\n",
    "The resulting parameter are alpha = 0.99, mu = 8.61, sigma = 0.126, p = 0. \n",
    "The minimized criterion value is 213320864509152."
   ]
  },
  {
   "cell_type": "code",
   "execution_count": 59,
   "metadata": {},
   "outputs": [
    {
     "name": "stdout",
     "output_type": "stream",
     "text": [
      "alpha_GMM3= 0.999999989508843  mu_GMM3= 8.607220363712564  sigma_GMM3= 0.12606680690988187  p_GMM3= 0.0\n"
     ]
    },
    {
     "data": {
      "text/plain": [
       "      fun: 213320864501952.47\n",
       " hess_inv: <4x4 LbfgsInvHessProduct with dtype=float64>\n",
       "      jac: array([0., 0., 0., 0.])\n",
       "  message: b'CONVERGENCE: NORM_OF_PROJECTED_GRADIENT_<=_PGTOL'\n",
       "     nfev: 120\n",
       "      nit: 3\n",
       "   status: 0\n",
       "  success: True\n",
       "        x: array([0.99999999, 8.60722036, 0.12606681, 0.        ])"
      ]
     },
     "execution_count": 59,
     "metadata": {},
     "output_type": "execute_result"
    }
   ],
   "source": [
    "init_alpha= 0.5\n",
    "\n",
    "z_t = np.log(macro.r_t/(init_alpha*(macro.k_t**(init_alpha-1))))\n",
    "\n",
    "init_mu = np.mean(z_t)\n",
    "init_sigma = np.sqrt(np.var(z_t))\n",
    "\n",
    "init_p = 0\n",
    "\n",
    "c = macro.c_t\n",
    "k = macro.k_t\n",
    "r = macro.r_t\n",
    "w = macro.w_t\n",
    "\n",
    "params_init = np.array([init_alpha, init_mu, init_sigma, init_p])\n",
    "W_hat = np.eye(4)\n",
    "gmm_args = (c, k, r, w, W_hat)\n",
    "results = opt.minimize(criterion, params_init, args=(gmm_args),\n",
    "                       tol=1e-14, method='L-BFGS-B',\n",
    "                       bounds=((1e-10, 1-(1e-10)), (1e-10, None),(1e-10, None), (-1+1e-10, 1-1e-10)))\n",
    "alpha_GMM3, mu_GMM3, sigma_GMM3, p_GMM3 = results.x\n",
    "print('alpha_GMM3=', alpha_GMM3, ' mu_GMM3=', mu_GMM3, ' sigma_GMM3=', sigma_GMM3, ' p_GMM3=', p_GMM3)\n",
    "results"
   ]
  }
 ],
 "metadata": {
  "kernelspec": {
   "display_name": "Python 3",
   "language": "python",
   "name": "python3"
  }
 },
 "nbformat": 4,
 "nbformat_minor": 2
}
